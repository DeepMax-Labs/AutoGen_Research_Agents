{
 "cells": [
  {
   "cell_type": "markdown",
   "metadata": {},
   "source": [
    "# Perform Research with AutoGen"
   ]
  },
  {
   "cell_type": "code",
   "execution_count": null,
   "metadata": {},
   "outputs": [],
   "source": [
    "# import libraries\n",
    "\n",
    "from lib_imports import *\n",
    "import logging"
   ]
  },
  {
   "cell_type": "code",
   "execution_count": null,
   "metadata": {},
   "outputs": [],
   "source": [
    "# load environment variables\n",
    "\n",
    "load_dotenv()\n",
    "\n",
    "OPENAI_API_KEY = os.getenv(\"OPENAI_API_KEY\") \n",
    "AGENTOPS_API_KEY = os.getenv('AGENTOPS_API_KEY')\n",
    "\n"
   ]
  },
  {
   "cell_type": "code",
   "execution_count": null,
   "metadata": {},
   "outputs": [],
   "source": [
    "# log calls assigned to agents\n",
    "\n",
    "logging.basicConfig(\n",
    "    level=logging.DEBUG\n",
    ") "
   ]
  },
  {
   "cell_type": "code",
   "execution_count": null,
   "metadata": {},
   "outputs": [],
   "source": [
    "# initialize agentops\n",
    "agentops.init(api_key=AGENTOPS_API_KEY, default_tags=[\"research-paper\"])"
   ]
  },
  {
   "cell_type": "markdown",
   "metadata": {},
   "source": [
    "## Construct Agents"
   ]
  },
  {
   "cell_type": "code",
   "execution_count": null,
   "metadata": {},
   "outputs": [],
   "source": [
    "from agent_classes import ExplainerAgent, LiteratureReviewer, FormulationAgent, MethodAgent, CollectorAgent\n",
    "from agent_classes import DataAnalyst, DiscussionAgent, RecommendationAgent, CitationAgent, QAEngineer"
   ]
  },
  {
   "cell_type": "code",
   "execution_count": null,
   "metadata": {},
   "outputs": [],
   "source": [
    "explainer = ExplainerAgent()\n",
    "reviewer = LiteratureReviewer()\n",
    "formulator = FormulationAgent()\n",
    "director = MethodAgent()\n",
    "collector = CollectorAgent()\n",
    "analyst = DataAnalyst()\n",
    "interpreter = DiscussionAgent()\n",
    "recommender = RecommendationAgent()\n",
    "formatter = CitationAgent()\n",
    "qaengineer = QAEngineer()"
   ]
  },
  {
   "cell_type": "markdown",
   "metadata": {},
   "source": [
    "### Research Paper Generation"
   ]
  },
  {
   "cell_type": "code",
   "execution_count": null,
   "metadata": {},
   "outputs": [],
   "source": [
    "# research topic\n",
    "topic = \"Role of AI in Climate Modelling for Environmental Sustainability\"\n"
   ]
  },
  {
   "cell_type": "code",
   "execution_count": null,
   "metadata": {},
   "outputs": [],
   "source": [
    "# Topic Understanding \n",
    "\n",
    "sub_topics = explainer.completion(\n",
    "    \"Generate research questions, subtopics and hypothesis for this topic : \\n \" + topic\n",
    ")"
   ]
  },
  {
   "cell_type": "code",
   "execution_count": null,
   "metadata": {},
   "outputs": [],
   "source": [
    "# Literature Review\n",
    "\n",
    "literature = reviewer.completion(\n",
    "    \"Write a literature review for these research questions: \\n \" + sub_topics\n",
    ")"
   ]
  },
  {
   "cell_type": "code",
   "execution_count": null,
   "metadata": {},
   "outputs": [],
   "source": [
    "# Research Question Formulation\n",
    "\n",
    "fin_question= formulator.completion(\n",
    "    \"Formulate a more concrete research question and hypothesis using the research topics: \\n \" + sub_topics + \"\\n  and the literature review: \\n\" + literature\n",
    ")"
   ]
  },
  {
   "cell_type": "code",
   "execution_count": null,
   "metadata": {},
   "outputs": [],
   "source": [
    "# Research Methodology\n",
    "\n",
    "methods = director.completion(\n",
    "    \"Suggest appropriate research methods using the final research question: \\n \" + fin_question + \"\\n  and the literature review: \\n\" + literature\n",
    ")"
   ]
  },
  {
   "cell_type": "code",
   "execution_count": null,
   "metadata": {},
   "outputs": [],
   "source": [
    "# Data Collection\n",
    "\n",
    "data = collector.completion(\n",
    "    \"Gather necessary data using suggested research methodology: \\n \" + methods \n",
    ")"
   ]
  },
  {
   "cell_type": "code",
   "execution_count": null,
   "metadata": {},
   "outputs": [],
   "source": [
    "# Data Analysis\n",
    "\n",
    "analysis = analyst.completion(\n",
    "    \"For academic research purposes, analyse this data: \\n \" + data \n",
    ")"
   ]
  },
  {
   "cell_type": "code",
   "execution_count": null,
   "metadata": {},
   "outputs": [],
   "source": [
    "# Discussion Phase\n",
    "\n",
    "discourse = interpreter.completion(\n",
    "    \"Write a discussion of findings and possible implications using the data analysis: \\n \" + analysis + \"\\n  and the literature review: \\n\" + literature\n",
    ")"
   ]
  },
  {
   "cell_type": "code",
   "execution_count": null,
   "metadata": {},
   "outputs": [],
   "source": [
    "# Conclusion and Recommendations\n",
    "\n",
    "conclusion = recommender.completion(\n",
    "    \"Write a recommendation and coclusion using the discussion generated from the academic research: \\n \" + discourse\n",
    ")"
   ]
  },
  {
   "cell_type": "code",
   "execution_count": null,
   "metadata": {},
   "outputs": [],
   "source": [
    "# Formatting and Citation\n",
    "\n",
    "draft =formatter.completion(\n",
    "    \"Generate the fully formatted research paper using the final research topic: \\n \" + fin_question + \"\\n the literature review:\" + literature\n",
    "    + \"\\n the methodology:\" + methods + \"\\n the data analysis:\" + analysis + \"\\n the discussion:\" + discourse + \"  \\n and the recommendation and conclusion:\" + conclusion \n",
    ")\n",
    " \n"
   ]
  },
  {
   "cell_type": "code",
   "execution_count": null,
   "metadata": {},
   "outputs": [],
   "source": [
    "# Complete Research Paper\n",
    "\n",
    "paper =qaengineer.completion(\n",
    "    \"Do the final touch up of the draft: \\n \" + draft + \"output a PDF format of the doocument\"\n",
    ")"
   ]
  },
  {
   "cell_type": "code",
   "execution_count": null,
   "metadata": {},
   "outputs": [],
   "source": [
    "agentops.end_session(\"Success\")"
   ]
  },
  {
   "cell_type": "code",
   "execution_count": null,
   "metadata": {},
   "outputs": [],
   "source": []
  }
 ],
 "metadata": {
  "kernelspec": {
   "display_name": "aiagentsenv",
   "language": "python",
   "name": "python3"
  },
  "language_info": {
   "name": "python",
   "version": "3.11.0"
  }
 },
 "nbformat": 4,
 "nbformat_minor": 2
}
